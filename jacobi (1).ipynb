{
 "cells": [
  {
   "cell_type": "markdown",
   "metadata": {},
   "source": [
    "\n",
    "          \n"
   ]
  },
  {
   "cell_type": "markdown",
   "metadata": {},
   "source": [
    "#      ЯКОБИ"
   ]
  },
  {
   "cell_type": "code",
   "execution_count": 1,
   "metadata": {},
   "outputs": [],
   "source": [
    "import numpy as np\n",
    "from numpy.testing import assert_allclose\n",
    "\n",
    "def Jac(a,num, eps_0 = -np.inf):\n",
    "    n, q = np.shape(a)\n",
    "    for _ in range (0, num*n):\n",
    "        eps = np.copy(eps_0)\n",
    "        i1 = 0\n",
    "        j1 = 0\n",
    "        for j in range(0,n):\n",
    "            for k in range(j+1,n):\n",
    "                if(np.abs(a[j,k]) > eps):\n",
    "                    i1 = j\n",
    "                    j1 = k\n",
    "                    eps = np.abs(a[j,k])\n",
    "                    if a[j,j] == a[k,k]:\n",
    "                        t = np.pi/4\n",
    "                    else:\n",
    "                        t = 1/2 * (np.arctan(2*a[i1,j1]/(a[j1,j1]-a[i1,i1])))\n",
    "                c = np.cos(t)\n",
    "                s = np.sin(t)\n",
    "                J = np.eye(np.shape(a)[0])\n",
    "                J[j,j] = c\n",
    "                J[j,k] = -s\n",
    "                J[k,j] = s\n",
    "                J[k,k] = c\n",
    "\n",
    "                a = J @ a @ J.T\n",
    "    v = [a[x,x] for x in range(0,n)]           \n",
    "    return np.array(v)"
   ]
  },
  {
   "cell_type": "markdown",
   "metadata": {},
   "source": [
    "Возьмем 3 матрицы\n",
    "\n",
    "$$\n",
    "\\begin{pmatrix}\n",
    "2 & 1 & -2   \\\\\n",
    "1      & 0 & 3  \\\\\n",
    "-2     & 3     & -4  \\\\\n",
    "\\end{pmatrix}$$\n",
    "\n",
    "\\begin{pmatrix}\n",
    "1 & 2 & 3 & 4 & 5\\\\\n",
    "2      & 1 & 6 & 7 & 8 \\\\\n",
    "3      & 6     & 1 & 9 & 2 \\\\\n",
    "4     & 7      & 9 & 1 & 3 \\\\\n",
    "\\end{pmatrix}\n",
    "\n",
    "\n",
    "\\begin{pmatrix}\n",
    "5 & 6 & 9 & 7  \\\\\n",
    "6      & 5 & 8 & 2  \\\\\n",
    "9     & 8     & 5 & 4  \\\\\n",
    "7      & 2      & 4 & 5 \\\\\n",
    "\\end{pmatrix}"
   ]
  },
  {
   "cell_type": "code",
   "execution_count": 2,
   "metadata": {},
   "outputs": [],
   "source": [
    "a = np.array([[2,1,-2],[1,0,3],[-2,3,-4]])\n",
    "assert_allclose(np.sort(Jac(a, 5)), np.sort(np.linalg.eig(a)[0]))\n",
    "\n",
    "b = np.array([[1,2,3,4,5],[2,1,6,7,8],[3,6,1,9,2],[4,7,9,1,3],[5,8,2,3,1]])\n",
    "assert_allclose(np.sort(Jac(b, 10)), np.sort(np.linalg.eig(b)[0]))\n",
    "\n",
    "c = np.array([[5,6,9,7],[6,5,8,2],[9,8,5,4],[7,2,4,5]])\n",
    "assert_allclose(np.sort(Jac(c, 10)), np.sort(np.linalg.eig(c)[0]))"
   ]
  },
  {
   "cell_type": "markdown",
   "metadata": {},
   "source": [
    "С помощью allclose посмотрим, получаем ли мы то, что надо."
   ]
  }
 ],
 "metadata": {
  "kernelspec": {
   "display_name": "Python 3",
   "language": "python",
   "name": "python3"
  },
  "language_info": {
   "codemirror_mode": {
    "name": "ipython",
    "version": 3
   },
   "file_extension": ".py",
   "mimetype": "text/x-python",
   "name": "python",
   "nbconvert_exporter": "python",
   "pygments_lexer": "ipython3",
   "version": "3.6.5"
  }
 },
 "nbformat": 4,
 "nbformat_minor": 2
}
