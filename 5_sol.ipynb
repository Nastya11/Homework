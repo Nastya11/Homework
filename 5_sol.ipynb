{
 "cells": [
  {
   "cell_type": "code",
   "execution_count": 1,
   "metadata": {},
   "outputs": [],
   "source": [
    "import math"
   ]
  },
  {
   "cell_type": "code",
   "execution_count": 2,
   "metadata": {},
   "outputs": [],
   "source": [
    "def f(x, k):\n",
    "    \"\"\"наша функция\"\"\"\n",
    "    return abs(math.sin(x)) - k * x"
   ]
  },
  {
   "cell_type": "code",
   "execution_count": 9,
   "metadata": {},
   "outputs": [],
   "source": [
    "def solution(k):\n",
    "    \"\"\"находит корни делением отрезка пополам при положительных k\"\"\"\n",
    "    if k == 0:\n",
    "        return ('pi*n')\n",
    "    \n",
    "    elif abs(k) >= 1:\n",
    "        return (0.0)\n",
    "    \n",
    "    elif k > 0:\n",
    "        eps=10 ** -10\n",
    "        out = []\n",
    "        l = math.pi / -2\n",
    "        r = 0.0\n",
    "        mid = 0.0\n",
    "        while(k * l <= 1):\n",
    "            l += math.pi / 2\n",
    "            r += math.pi / 2\n",
    "            if(f(l, k) * f(r, k) < 0):\n",
    "                mid = (l + r) / 2\n",
    "                while (abs(f(mid, k)) > eps):\n",
    "                    mid = (l + r) / 2\n",
    "                    if(f(mid, k) * f(l, k) > 0):\n",
    "                        l = mid\n",
    "                    else:\n",
    "                        r = mid\n",
    "            out += [mid]\n",
    "        return out\n",
    "    \n",
    "    else:\n",
    "        k *= -1\n",
    "        t = solution(k)\n",
    "        out = [-1 * a for a in t]\n",
    "        return out"
   ]
  },
  {
   "cell_type": "markdown",
   "metadata": {},
   "source": [
    "Посмотрим решения при различных k"
   ]
  },
  {
   "cell_type": "code",
   "execution_count": 11,
   "metadata": {},
   "outputs": [
    {
     "data": {
      "text/plain": [
       "'pi*n'"
      ]
     },
     "execution_count": 11,
     "metadata": {},
     "output_type": "execute_result"
    }
   ],
   "source": [
    "solution(0)"
   ]
  },
  {
   "cell_type": "code",
   "execution_count": 14,
   "metadata": {},
   "outputs": [
    {
     "data": {
      "text/plain": [
       "[0.0,\n",
       " 2.9914564333678735,\n",
       " 2.9914564333678735,\n",
       " 2.9914564333678735,\n",
       " 2.9914564333678735,\n",
       " 2.9914564333678735,\n",
       " 2.9914564333678735,\n",
       " 2.9914564333678735,\n",
       " 2.9914564333678735,\n",
       " 2.9914564333678735,\n",
       " 2.9914564333678735,\n",
       " 2.9914564333678735,\n",
       " 2.9914564333678735]"
      ]
     },
     "execution_count": 14,
     "metadata": {},
     "output_type": "execute_result"
    }
   ],
   "source": [
    "solution(0.05)"
   ]
  },
  {
   "cell_type": "code",
   "execution_count": 15,
   "metadata": {},
   "outputs": [
    {
     "data": {
      "text/plain": [
       "[-0.0, -2.3564411498838544, -2.3564411498838544]"
      ]
     },
     "execution_count": 15,
     "metadata": {},
     "output_type": "execute_result"
    }
   ],
   "source": [
    "solution(-0.3)"
   ]
  },
  {
   "cell_type": "code",
   "execution_count": 16,
   "metadata": {},
   "outputs": [
    {
     "data": {
      "text/plain": [
       "0.0"
      ]
     },
     "execution_count": 16,
     "metadata": {},
     "output_type": "execute_result"
    }
   ],
   "source": [
    "solution(5)"
   ]
  }
 ],
 "metadata": {
  "kernelspec": {
   "display_name": "Python 3",
   "language": "python",
   "name": "python3"
  },
  "language_info": {
   "codemirror_mode": {
    "name": "ipython",
    "version": 3
   },
   "file_extension": ".py",
   "mimetype": "text/x-python",
   "name": "python",
   "nbconvert_exporter": "python",
   "pygments_lexer": "ipython3",
   "version": "3.6.4"
  }
 },
 "nbformat": 4,
 "nbformat_minor": 2
}
