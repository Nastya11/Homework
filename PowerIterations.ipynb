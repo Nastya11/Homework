{
 "cells": [
  {
   "cell_type": "markdown",
   "metadata": {},
   "source": [
    "# Power iterations"
   ]
  },
  {
   "cell_type": "code",
   "execution_count": 1,
   "metadata": {},
   "outputs": [],
   "source": [
    "import numpy as np"
   ]
  },
  {
   "cell_type": "markdown",
   "metadata": {},
   "source": [
    "Обратный гамильтониан (плоская яма)"
   ]
  },
  {
   "cell_type": "code",
   "execution_count": 2,
   "metadata": {},
   "outputs": [],
   "source": [
    "def p(n): \n",
    "    h= 2/n\n",
    "    buf = np.zeros((n, n))\n",
    "    flat = buf.ravel()\n",
    "    flat[0::n+1] = 2/h**2\n",
    "    flat[n::n+1] = -1/h**2\n",
    "    flat[1::n+1] = -1/h**2\n",
    "    return np.linalg.inv(buf)"
   ]
  },
  {
   "cell_type": "markdown",
   "metadata": {},
   "source": [
    "Сам метод. Основное состояние - $\\frac{\\pi}{2}$. Должно получиться что-то похожее на $(\\frac{\\pi}{2})^2$"
   ]
  },
  {
   "cell_type": "code",
   "execution_count": 7,
   "metadata": {},
   "outputs": [
    {
     "name": "stdout",
     "output_type": "stream",
     "text": [
      "result: 2.4624716692297786\n",
      "(pi/2)^2: 2.4674011002723395\n"
     ]
    }
   ],
   "source": [
    "def power_iterations(H, eps):\n",
    "    x = np.ones(H.shape[0]) / np.sqrt(H.shape[0])\n",
    "    eig = x @ H @ x\n",
    "    while True:\n",
    "        x1 = (H @ x)/np.linalg.norm(H @ x)\n",
    "        eig1 = x1 @ H @ x1\n",
    "        if np.allclose(eig1, eig, eps):\n",
    "            break\n",
    "        x = x1\n",
    "        eig = eig1\n",
    "    return eig1\n",
    "\n",
    "\n",
    "\n",
    "print('result:', 1/power_iterations(p(1000), 1e-10))\n",
    "print('(pi/2)^2:', (np.pi/2)**2)\n"
   ]
  },
  {
   "cell_type": "markdown",
   "metadata": {},
   "source": [
    "Вышло не очень точно, но похоже на правду."
   ]
  }
 ],
 "metadata": {
  "kernelspec": {
   "display_name": "Python 3",
   "language": "python",
   "name": "python3"
  },
  "language_info": {
   "codemirror_mode": {
    "name": "ipython",
    "version": 3
   },
   "file_extension": ".py",
   "mimetype": "text/x-python",
   "name": "python",
   "nbconvert_exporter": "python",
   "pygments_lexer": "ipython3",
   "version": "3.6.5"
  }
 },
 "nbformat": 4,
 "nbformat_minor": 2
}
