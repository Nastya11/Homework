{
 "cells": [
  {
   "cell_type": "markdown",
   "metadata": {},
   "source": [
    "# Метод Гаусса"
   ]
  },
  {
   "cell_type": "code",
   "execution_count": 1,
   "metadata": {},
   "outputs": [],
   "source": [
    "import numpy as np\n",
    "import scipy.integrate as integrate\n",
    "from scipy.special import roots_legendre"
   ]
  },
  {
   "cell_type": "markdown",
   "metadata": {},
   "source": [
    "Задача: посчитать интеграл $\\int_0^2 \\frac{2+ cos(1+ \\sqrt x) e^{0.5x}}{\\sqrt{1+0.5x}}dx$. Используем метод Гаусса. Для того чтобы можно было применить полином Лежандра, нужно чтобы пределы интегрирования были от -1 до 1."
   ]
  },
  {
   "cell_type": "code",
   "execution_count": 2,
   "metadata": {},
   "outputs": [],
   "source": [
    "def f_initial(x):\n",
    "    return (2 + np.cos(1 + np.sqrt(x)))*np.exp(0.5*(x)) / np.sqrt(1 + 0.5*x)\n",
    "#Меняем пределы интегрирования на -1, 1\n",
    "def func(initial, a, b, x):\n",
    "    return initial(( ( b - a ) / 2 ) * ( x + 1 + 2*a / (b - a) ) ) * ( b - a ) / 2"
   ]
  },
  {
   "cell_type": "markdown",
   "metadata": {},
   "source": [
    "С помощью библиотечной функции roots_legendre считаем корни и веса в узлах. f - интегрируемая функция с пределами интегрирования от -1 до 1, n - количество узлов. Сам интеграл считаем как сумму значений func(roots), помноженных на веса "
   ]
  },
  {
   "cell_type": "code",
   "execution_count": 3,
   "metadata": {},
   "outputs": [],
   "source": [
    "def GL(f,n):\n",
    "    roots, weights = roots_legendre(n)\n",
    "    return np.sum(func(f,0,2,roots)*weights)"
   ]
  },
  {
   "cell_type": "markdown",
   "metadata": {},
   "source": [
    "Посчитаем количество узлов в зависимости от заданной точности"
   ]
  },
  {
   "cell_type": "code",
   "execution_count": 4,
   "metadata": {},
   "outputs": [],
   "source": [
    "def order(f, eps):\n",
    "    prev = 0\n",
    "    n = 0\n",
    "    while(True):\n",
    "        n += 1\n",
    "        new = GL(f, n)\n",
    "        if np.abs(prev - new)<eps:\n",
    "            break\n",
    "        prev = new\n",
    "    eps_degree = np.round(-np.log10(eps))\n",
    "    new = np.round(new, int(eps_degree))\n",
    "    return new, n"
   ]
  },
  {
   "cell_type": "markdown",
   "metadata": {},
   "source": [
    "Посмотрим результат при eps =$ 10^{-10}$"
   ]
  },
  {
   "cell_type": "code",
   "execution_count": 5,
   "metadata": {},
   "outputs": [
    {
     "name": "stdout",
     "output_type": "stream",
     "text": [
      "result = 4.423368482 \n",
      "n = 293\n"
     ]
    }
   ],
   "source": [
    "result=order(f_initial, 1e-10)\n",
    "print('result =', result[0], '\\nn =', result[1])"
   ]
  },
  {
   "cell_type": "markdown",
   "metadata": {},
   "source": [
    "Другие eps для примера"
   ]
  },
  {
   "cell_type": "code",
   "execution_count": 6,
   "metadata": {},
   "outputs": [
    {
     "name": "stdout",
     "output_type": "stream",
     "text": [
      "result = 4.4232 \n",
      "n = 10\n",
      "result = 4.4233669 \n",
      "n = 53\n",
      "result = 4.423368438 \n",
      "n = 165\n"
     ]
    }
   ],
   "source": [
    "print('result =', order(f_initial, 1e-4)[0], '\\nn =', order(f_initial, 1e-4)[1])\n",
    "print('result =', order(f_initial, 1e-7)[0], '\\nn =', order(f_initial, 1e-7)[1])\n",
    "print('result =', order(f_initial, 1e-9)[0], '\\nn =', order(f_initial, 1e-9)[1])"
   ]
  },
  {
   "cell_type": "markdown",
   "metadata": {},
   "source": [
    "Сравним наш ответ при eps =$ 10^{-10}$ и результат работы integrate.quad"
   ]
  },
  {
   "cell_type": "code",
   "execution_count": 7,
   "metadata": {},
   "outputs": [
    {
     "name": "stdout",
     "output_type": "stream",
     "text": [
      "eps = 1  - Match\n",
      "eps = 0.1  - Match\n",
      "eps = 0.01  - Match\n",
      "eps = 0.001  - Match\n",
      "eps = 0.0001  - Match\n",
      "eps = 1e-05  - Match\n",
      "eps = 1.0000000000000002e-06  - Match\n",
      "eps = 1.0000000000000002e-07  - Match\n",
      "eps = 1.0000000000000002e-08  - Match\n",
      "eps = 1.0000000000000003e-09  - Mismatch;\n",
      " Quad:  4.423368492 \n",
      " Gauss-Legendre:  4.423368482\n"
     ]
    }
   ],
   "source": [
    "true_result = integrate.quad(lambda x: (2+np.cos(1 + np.sqrt(x)))*np.exp(0.5*(x)) /np.sqrt(1 + 0.5*x) , 0, 2)\n",
    "eps = 1\n",
    "while(True):\n",
    "    if np.allclose(result[0], true_result[0], rtol = eps, atol = 0) == True:\n",
    "        print('eps =', eps, ' - Match')\n",
    "    else:\n",
    "        print('eps =', eps, ' - Mismatch;\\n Quad: ', np.round(true_result[0], int(-np.log10(eps))),\n",
    "              '\\n Gauss-Legendre: ', np.round(result[0], int(-np.log10(eps))))\n",
    "        break    \n",
    "    eps = eps/10"
   ]
  },
  {
   "cell_type": "markdown",
   "metadata": {},
   "source": [
    "Видно, что различия появляются при eps =$ 10^{-9}$. Стоит помнить, что приближение $\\int_{-1}^1 W(x)f(x)dx \\approx \\sum_{j=1}^N w_j f(x_j)$, которым мы воспользовались, является точным, если f(x) - полином."
   ]
  }
 ],
 "metadata": {
  "kernelspec": {
   "display_name": "Python 3",
   "language": "python",
   "name": "python3"
  },
  "language_info": {
   "codemirror_mode": {
    "name": "ipython",
    "version": 3
   },
   "file_extension": ".py",
   "mimetype": "text/x-python",
   "name": "python",
   "nbconvert_exporter": "python",
   "pygments_lexer": "ipython3",
   "version": "3.6.5"
  }
 },
 "nbformat": 4,
 "nbformat_minor": 2
}
