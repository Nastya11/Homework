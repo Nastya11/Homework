{
 "cells": [
  {
   "cell_type": "markdown",
   "metadata": {},
   "source": [
    "# Seidel iterations"
   ]
  },
  {
   "cell_type": "markdown",
   "metadata": {},
   "source": [
    "Хотим решить уравнение типа:\n",
    "$$A\\vec{x} = \\vec{b}$$\n",
    "Можно представить в таком виде:\n",
    "$$L\\vec{x_{k+1}} = \\vec{b} - U\\vec{x_k}$$\n",
    "где $A = L+U$, $L$ - нижнетреугольная. Соответственно,\n",
    "    $$\\vec{x_{k+1}} = L^{-1}(\\vec{b} - U\\vec{x_k})$$\n"
   ]
  },
  {
   "cell_type": "code",
   "execution_count": 1,
   "metadata": {},
   "outputs": [],
   "source": [
    "import numpy as np"
   ]
  },
  {
   "cell_type": "markdown",
   "metadata": {},
   "source": [
    "Сделаем это красивым способом с помощью матриц. Для начала сгенерируем систему уравнений"
   ]
  },
  {
   "cell_type": "code",
   "execution_count": 2,
   "metadata": {},
   "outputs": [],
   "source": [
    "rndm = np.random.RandomState(140)\n",
    "n = 4\n",
    "\n",
    "A = rndm.uniform(size=(n, n)) \n",
    "b = rndm.uniform(size=n)"
   ]
  },
  {
   "cell_type": "markdown",
   "metadata": {},
   "source": [
    "Вводим наши матрицы"
   ]
  },
  {
   "cell_type": "code",
   "execution_count": 3,
   "metadata": {},
   "outputs": [],
   "source": [
    "x = np.ones(n)\n",
    "L = np.tril(A)\n",
    "U = A - L"
   ]
  },
  {
   "cell_type": "markdown",
   "metadata": {},
   "source": [
    "Метод будет сходиться, когда все собственные значения матрицы $L^{-1}U <1$"
   ]
  },
  {
   "cell_type": "code",
   "execution_count": 4,
   "metadata": {},
   "outputs": [
    {
     "name": "stdout",
     "output_type": "stream",
     "text": [
      "[ 0.        +0.j         -0.21383648+0.26284027j -0.21383648-0.26284027j\n",
      " -0.06445329+0.j        ]\n"
     ]
    }
   ],
   "source": [
    "M = np.dot(np.linalg.inv(L), U)\n",
    "eig = np.linalg.eig(M)[0]\n",
    "print(eig)"
   ]
  },
  {
   "cell_type": "code",
   "execution_count": 5,
   "metadata": {},
   "outputs": [],
   "source": [
    "it = 20\n",
    "for _ in range(it):\n",
    "    x = np.dot(np.linalg.inv(L), b - np.dot(U, x))"
   ]
  },
  {
   "cell_type": "markdown",
   "metadata": {},
   "source": [
    "Проверка"
   ]
  },
  {
   "cell_type": "code",
   "execution_count": 6,
   "metadata": {},
   "outputs": [
    {
     "data": {
      "text/plain": [
       "True"
      ]
     },
     "execution_count": 6,
     "metadata": {},
     "output_type": "execute_result"
    }
   ],
   "source": [
    "np.allclose(x, np.linalg.solve(A,b))"
   ]
  }
 ],
 "metadata": {
  "kernelspec": {
   "display_name": "Python 3",
   "language": "python",
   "name": "python3"
  },
  "language_info": {
   "codemirror_mode": {
    "name": "ipython",
    "version": 3
   },
   "file_extension": ".py",
   "mimetype": "text/x-python",
   "name": "python",
   "nbconvert_exporter": "python",
   "pygments_lexer": "ipython3",
   "version": "3.6.5"
  }
 },
 "nbformat": 4,
 "nbformat_minor": 2
}
