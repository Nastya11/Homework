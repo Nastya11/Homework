{
 "cells": [
  {
   "cell_type": "markdown",
   "metadata": {},
   "source": [
    "# Фрактал метода Ньютона"
   ]
  },
  {
   "cell_type": "code",
   "execution_count": 13,
   "metadata": {},
   "outputs": [],
   "source": [
    "import math\n",
    "import numpy\n",
    "import matplotlib\n",
    "import matplotlib.pyplot"
   ]
  },
  {
   "cell_type": "code",
   "execution_count": 14,
   "metadata": {},
   "outputs": [],
   "source": [
    "def f(x, n):\n",
    "    \"\"\"поиск корня уравнения х**3=1 методом Ньютона, n - количество итераций\"\"\"\n",
    "    for i in range (n):\n",
    "        x -= (x ** 3 - 1) / (3 * x ** 2)\n",
    "    return x"
   ]
  },
  {
   "cell_type": "code",
   "execution_count": 17,
   "metadata": {},
   "outputs": [],
   "source": [
    "def fract(size, eps):\n",
    "    \"\"\"size-масштаб, eps-плотность точек\"\"\"\n",
    "    x = numpy.arange(-size, size, eps)\n",
    "    y = numpy.arange(-size, size, eps)\n",
    "    x_green = []\n",
    "    y_green = []\n",
    "    x_yellow = []\n",
    "    y_yellow = []\n",
    "    x_red = []\n",
    "    y_red = []\n",
    "    for xi in x:\n",
    "        for yi in y:\n",
    "            k = f(xi + yi * 1j, 10).imag\n",
    "            if k <= -0.8:\n",
    "                x_green += [xi]\n",
    "                y_green += [yi]\n",
    "            elif k >= 0.8:\n",
    "                x_yellow += [xi]\n",
    "                y_yellow += [yi]\n",
    "            else:\n",
    "                x_red += [xi]\n",
    "                y_red += [yi]\n",
    "                \n",
    "    figure, regular_plot = matplotlib.pyplot.subplots()\n",
    "    regular_plot.plot(x_green, y_green, 'g,')\n",
    "    regular_plot.plot(x_yellow, y_yellow, 'y,')\n",
    "    regular_plot.plot(x_red, y_red, 'r,')\n",
    "    matplotlib.pyplot.show()"
   ]
  },
  {
   "cell_type": "markdown",
   "metadata": {},
   "source": [
    "Функция показывает, из каких точек комплексной плоскости мы придём к решению 1 (красный цвет), из каких - к решению exp(pi/3)(зелёный), а из каких к решению -pi/3 (желтый)"
   ]
  },
  {
   "cell_type": "code",
   "execution_count": 16,
   "metadata": {},
   "outputs": [
    {
     "data": {
      "image/png": "[encoded data removed]",
      "text/plain": [
       "<matplotlib.figure.Figure at 0x745d0d0>"
      ]
     },
     "metadata": {},
     "output_type": "display_data"
    }
   ],
   "source": [
    "fract(1, 0.01)"
   ]
  }
 ],
 "metadata": {
  "kernelspec": {
   "display_name": "Python 3",
   "language": "python",
   "name": "python3"
  },
  "language_info": {
   "codemirror_mode": {
    "name": "ipython",
    "version": 3
   },
   "file_extension": ".py",
   "mimetype": "text/x-python",
   "name": "python",
   "nbconvert_exporter": "python",
   "pygments_lexer": "ipython3",
   "version": "3.6.4"
  }
 },
 "nbformat": 4,
 "nbformat_minor": 2
}
