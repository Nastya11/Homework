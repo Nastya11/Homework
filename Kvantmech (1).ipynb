{
 "cells": [
  {
   "cell_type": "markdown",
   "metadata": {},
   "source": [
    "# ЯМА"
   ]
  },
  {
   "cell_type": "code",
   "execution_count": 1,
   "metadata": {},
   "outputs": [],
   "source": [
    "import numpy as np\n",
    "import matplotlib.pyplot as plt"
   ]
  },
  {
   "cell_type": "markdown",
   "metadata": {},
   "source": [
    "Функция, выдающая гамильтониан для плоской ямы:"
   ]
  },
  {
   "cell_type": "code",
   "execution_count": 2,
   "metadata": {},
   "outputs": [],
   "source": [
    "def p(n): \n",
    "    buf = np.zeros((n, n))\n",
    "    flat = buf.ravel()\n",
    "    flat[0::n+1] = -2\n",
    "    flat[n::n+1] = 1\n",
    "    flat[1::n+1] = 1\n",
    "    return buf"
   ]
  },
  {
   "cell_type": "markdown",
   "metadata": {},
   "source": [
    "Это U - наш горб.  $U = \\frac{h}{cosh(x)^2}-\\frac{h}{cosh(a)^2}$. а = 1."
   ]
  },
  {
   "cell_type": "code",
   "execution_count": 3,
   "metadata": {
    "scrolled": true
   },
   "outputs": [],
   "source": [
    "def U(p, h):\n",
    "    n = p.shape[0]\n",
    "    delta = 1/(np.cosh(1))**2\n",
    "    u = np.array([h*(1/(np.cosh(2 * i / n))**2 - delta) for i in range(n)])\n",
    "\n",
    "    return p + np.diag(u)\n"
   ]
  },
  {
   "cell_type": "markdown",
   "metadata": {},
   "source": [
    "Строим графики собственных значений и их разницы. Если h = 0, то видим, что графики совпадают."
   ]
  },
  {
   "cell_type": "code",
   "execution_count": 6,
   "metadata": {},
   "outputs": [
    {
     "data": {
      "application/vnd.jupyter.widget-view+json": {
       "model_id": "653ff2f297fe455686c0e74e95e06f67",
       "version_major": 2,
       "version_minor": 0
      },
      "text/plain": [
       "interactive(children=(IntSlider(value=500, description='n', max=1000), IntSlider(value=0, description='h', min…"
      ]
     },
     "metadata": {},
     "output_type": "display_data"
    }
   ],
   "source": [
    "from ipywidgets import interact, widgets\n",
    "def H(n,h):\n",
    "    x = np.linspace(1,n,n)\n",
    "    P_0 = p(n)\n",
    "    E_0 = np.sort(np.linalg.eig(P_0)[0])\n",
    "    E_u = np.sort(np.linalg.eig(U(P_0, h))[0])\n",
    "    return x, E_0, E_u\n",
    "\n",
    "\n",
    "def f(n,h):\n",
    "\n",
    "    fig = plt.figure(figsize=plt.figaspect(0.5))\n",
    "    ax = fig.add_subplot(1, 2, 1)\n",
    "    ax.plot(H(n,h)[0], H(n,h)[1], color = 'green', label = '$E_0$')\n",
    "    ax.plot(H(n,h)[0], H(n,h)[2], color = 'red', label = '$E_1$')\n",
    "    plt.legend()\n",
    "    ax = fig.add_subplot(1, 2, 2)\n",
    "    ax.plot(H(n,h)[0], np.abs(H(n,h)[1] - H(n,h)[2]), color = 'black')\n",
    "    \n",
    "    \n",
    "interact(f, n = widgets.IntSlider(min=0,max=1000,step=1,value=500), h = widgets.IntSlider(min=-100,max=100,step=1,value=0));\n",
    "plt.show()"
   ]
  }
 ],
 "metadata": {
  "kernelspec": {
   "display_name": "Python 3",
   "language": "python",
   "name": "python3"
  },
  "language_info": {
   "codemirror_mode": {
    "name": "ipython",
    "version": 3
   },
   "file_extension": ".py",
   "mimetype": "text/x-python",
   "name": "python",
   "nbconvert_exporter": "python",
   "pygments_lexer": "ipython3",
   "version": "3.6.5"
  }
 },
 "nbformat": 4,
 "nbformat_minor": 2
}
