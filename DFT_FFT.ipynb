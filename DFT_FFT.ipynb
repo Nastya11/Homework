{
 "cells": [
  {
   "cell_type": "markdown",
   "metadata": {},
   "source": [
    "# Преобразование Фурье"
   ]
  },
  {
   "cell_type": "markdown",
   "metadata": {},
   "source": [
    "### Дискретное преобразование Фурье"
   ]
  },
  {
   "cell_type": "code",
   "execution_count": 1,
   "metadata": {},
   "outputs": [],
   "source": [
    "import numpy as np"
   ]
  },
  {
   "cell_type": "markdown",
   "metadata": {},
   "source": [
    "Рассмотрим формулы прямого и обратного дискретного преобразвоания Фурье:\n",
    "$$X_k = \\sum_{n=0}^{N-1} x_n \\cdot e^{-2\\pi~i~k~n~/~N}$$ - прямое\n",
    "$$x_n = \\frac{1}{N}\\sum_{k=0}^{N-1} X_k e^{2\\pi~i~k~n~/~N}$$ - обратное\n",
    "\n",
    "Можно заметить, что дискретное преобразование по сути является линейной операцией, соответственно можно записать вектор $\\vec{X}$ как результат произведения матрицы $M$ и вектора $\\vec{x}$ $$\\vec{X} = M \\cdot \\vec{x}$$\n",
    "Элемент матрицы $M$: $e^{-i~2\\pi~k~n~/~N}.$\n",
    "\n",
    "Аналогично для обратного преобразования."
   ]
  },
  {
   "cell_type": "code",
   "execution_count": 2,
   "metadata": {},
   "outputs": [],
   "source": [
    "def DFT(x):\n",
    "    x = np.asarray(x)\n",
    "    N = x.shape[0]\n",
    "    n = np.arange(N)[None,:]\n",
    "    k = n.T\n",
    "    M = np.exp(-2j * np.pi * k * n / N)\n",
    "    return np.dot(M, x)\n",
    "\n",
    "def DFTI(x):\n",
    "    x = np.asarray(x)\n",
    "    N = x.shape[0]\n",
    "    k = np.arange(N)[None,:]\n",
    "    n = k.T\n",
    "    M = 1/N * np.exp(2j * np.pi * n * k / N)\n",
    "    return np.dot(M, x)"
   ]
  },
  {
   "cell_type": "markdown",
   "metadata": {},
   "source": [
    "Проверка"
   ]
  },
  {
   "cell_type": "code",
   "execution_count": 3,
   "metadata": {},
   "outputs": [
    {
     "data": {
      "text/plain": [
       "True"
      ]
     },
     "execution_count": 3,
     "metadata": {},
     "output_type": "execute_result"
    }
   ],
   "source": [
    "x = np.random.random(512)\n",
    "np.allclose(DFT(x), np.fft.fft(x))"
   ]
  },
  {
   "cell_type": "code",
   "execution_count": 4,
   "metadata": {},
   "outputs": [
    {
     "data": {
      "text/plain": [
       "True"
      ]
     },
     "execution_count": 4,
     "metadata": {},
     "output_type": "execute_result"
    }
   ],
   "source": [
    "np.allclose(DFTI(DFT(x)), x)"
   ]
  },
  {
   "cell_type": "markdown",
   "metadata": {},
   "source": [
    "### Быстрое преобразование Фурье"
   ]
  },
  {
   "cell_type": "markdown",
   "metadata": {},
   "source": [
    "Можно разделить дискретное преобразование Фурье размера $N$ на части:\n",
    "        $$X_k = \\sum_{m=0}^{N/2-1} x_m \\cdot e^{-2\\pi~i~k~m~/~N} + \\sum_{m=0}^{N/2-1} x_{2m+1} \\cdot e^{-2\\pi~i~k~m~/~N} = E_k + e^{-2\\pi~i~k/~N}O_k$$\n",
    "Похожим образом получаем $X_{k+N/2}$:\n",
    "$$X_{k+N/2} = E_k - e^{-2\\pi~i~k/~N}O_k$$\n",
    "Результат получим, взяв сумму $X_k$ и $X_{k+N/2}$"
   ]
  },
  {
   "cell_type": "code",
   "execution_count": 5,
   "metadata": {},
   "outputs": [],
   "source": [
    "def FFT(x):\n",
    "    x = np.asarray(x)\n",
    "    N = x.shape[0]\n",
    "    if N <= 1: \n",
    "        return x\n",
    "    even = FFT(x[0::2])\n",
    "    odd =  FFT(x[1::2])\n",
    "    EXP = [np.exp(-2j*np.pi*k/N)*odd[k] for k in range(N//2)]\n",
    "    return [even[k] + EXP[k] for k in range(N//2)] + [even[k] - EXP[k] for k in range(N//2)]\n",
    "\n",
    "def IFFT_N(x):\n",
    "    x = np.asarray(x)\n",
    "    N = x.shape[0]\n",
    "    if N <= 1: \n",
    "        return x\n",
    "    even = IFFT_N(x[0::2])\n",
    "    odd =  IFFT_N(x[1::2])\n",
    "    EXP = [np.exp(2j*np.pi*k/N)*odd[k] for k in range(N//2)]\n",
    "    summ = [(even[k] + EXP[k]) for k in range(N//2)] + [(even[k] - EXP[k]) for k in range(N//2)]\n",
    "    return summ\n",
    "\n",
    "def IFFT(x):\n",
    "    x = np.asarray(x)\n",
    "    N = x.shape[0]\n",
    "    summ = IFFT_N(x)\n",
    "    return [summ[i] / N for i in range(N)]"
   ]
  },
  {
   "cell_type": "markdown",
   "metadata": {},
   "source": [
    "Проверка"
   ]
  },
  {
   "cell_type": "code",
   "execution_count": 6,
   "metadata": {},
   "outputs": [
    {
     "data": {
      "text/plain": [
       "True"
      ]
     },
     "execution_count": 6,
     "metadata": {},
     "output_type": "execute_result"
    }
   ],
   "source": [
    "x = np.random.random(512)\n",
    "\n",
    "np.allclose(FFT(x), np.fft.fft(x))"
   ]
  },
  {
   "cell_type": "code",
   "execution_count": 7,
   "metadata": {},
   "outputs": [
    {
     "data": {
      "text/plain": [
       "True"
      ]
     },
     "execution_count": 7,
     "metadata": {},
     "output_type": "execute_result"
    }
   ],
   "source": [
    "np.allclose(IFFT(FFT(x)), x)"
   ]
  },
  {
   "cell_type": "markdown",
   "metadata": {},
   "source": [
    "### Сравнение"
   ]
  },
  {
   "cell_type": "markdown",
   "metadata": {},
   "source": [
    "Посмотрим на время выполнения алгоритма. Видно, что FFT работает быстрее, однако до numpy ещё далеко\n"
   ]
  },
  {
   "cell_type": "code",
   "execution_count": 8,
   "metadata": {},
   "outputs": [
    {
     "name": "stdout",
     "output_type": "stream",
     "text": [
      "25.9 ms ± 773 µs per loop (mean ± std. dev. of 7 runs, 10 loops each)\n",
      "7.3 ms ± 137 µs per loop (mean ± std. dev. of 7 runs, 100 loops each)\n"
     ]
    }
   ],
   "source": [
    "%timeit DFT(x)\n",
    "%timeit FFT(x)"
   ]
  },
  {
   "cell_type": "code",
   "execution_count": 9,
   "metadata": {},
   "outputs": [
    {
     "name": "stdout",
     "output_type": "stream",
     "text": [
      "2.67 µs ± 66 ns per loop (mean ± std. dev. of 7 runs, 100000 loops each)\n"
     ]
    }
   ],
   "source": [
    "%timeit np.fft.fft(x)"
   ]
  }
 ],
 "metadata": {
  "kernelspec": {
   "display_name": "Python 3",
   "language": "python",
   "name": "python3"
  },
  "language_info": {
   "codemirror_mode": {
    "name": "ipython",
    "version": 3
   },
   "file_extension": ".py",
   "mimetype": "text/x-python",
   "name": "python",
   "nbconvert_exporter": "python",
   "pygments_lexer": "ipython3",
   "version": "3.6.5"
  }
 },
 "nbformat": 4,
 "nbformat_minor": 2
}
