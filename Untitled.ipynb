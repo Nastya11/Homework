{
 "cells": [
  {
   "cell_type": "code",
   "execution_count": 43,
   "metadata": {},
   "outputs": [
    {
     "data": {
      "text/plain": [
       "0.3333332500000003"
      ]
     },
     "execution_count": 43,
     "metadata": {},
     "output_type": "execute_result"
    }
   ],
   "source": [
    "def integrl(f,a,b,n):\n",
    "    '''Интеграл: f-функция,  [a,b] - интервал, n - количество шагов'''\n",
    "    st=(b-a)/n\n",
    "    result=0\n",
    "    for i in range(n):\n",
    "        result += f((a+st/2))*st\n",
    "        a += st\n",
    "    return result\n",
    "integrl(lambda x:(x**2), 0, 1, 1000)\n",
    "\n",
    "\n",
    "    "
   ]
  },
  {
   "cell_type": "code",
   "execution_count": 51,
   "metadata": {},
   "outputs": [
    {
     "data": {
      "text/plain": [
       "1.0000009999511228"
      ]
     },
     "execution_count": 51,
     "metadata": {},
     "output_type": "execute_result"
    }
   ],
   "source": [
    "def diff(f,a,h):\n",
    "    '''Производная: f-функция, a-значение х, h-эпсилон'''\n",
    "    return (f(a+h)-f(a))/(h)\n",
    "diff(lambda x: (x**3)/3, 1, 0.000001)"
   ]
  },
  {
   "cell_type": "code",
   "execution_count": 62,
   "metadata": {},
   "outputs": [
    {
     "data": {
      "image/png": "[encoded data removed]",
      "text/plain": [
       "<matplotlib.figure.Figure at 0xb4b80f0>"
      ]
     },
     "metadata": {},
     "output_type": "display_data"
    }
   ],
   "source": [
    "import matplotlib.pyplot as plt\n",
    "import numpy as np\n",
    "xx=np.linspace(-1, 1, 200)\n",
    "yy=[diff(lambda x: (x**3)/3, xx, 0.000001) for xx in xx]\n",
    "yn=[yy-1 for yy in yy]\n",
    "plt.plot(xx, yn)\n",
    "plt.show()"
   ]
  }
 ],
 "metadata": {
  "kernelspec": {
   "display_name": "Python 3",
   "language": "python",
   "name": "python3"
  },
  "language_info": {
   "codemirror_mode": {
    "name": "ipython",
    "version": 3
   },
   "file_extension": ".py",
   "mimetype": "text/x-python",
   "name": "python",
   "nbconvert_exporter": "python",
   "pygments_lexer": "ipython3",
   "version": "3.6.3"
  }
 },
 "nbformat": 4,
 "nbformat_minor": 2
}
